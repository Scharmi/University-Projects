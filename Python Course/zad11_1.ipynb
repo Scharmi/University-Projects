{
 "cells": [
  {
   "cell_type": "markdown",
   "id": "e6c1b4d6",
   "metadata": {},
   "source": [
    "# Zadanie dnia"
   ]
  },
  {
   "cell_type": "code",
   "execution_count": 1,
   "id": "421c5c1b",
   "metadata": {},
   "outputs": [
    {
     "name": "stdout",
     "output_type": "stream",
     "text": [
      "1\n"
     ]
    },
    {
     "name": "stderr",
     "output_type": "stream",
     "text": [
      "Some characters could not be decoded, and were replaced with REPLACEMENT CHARACTER.\n"
     ]
    },
    {
     "name": "stdout",
     "output_type": "stream",
     "text": [
      "2\n"
     ]
    },
    {
     "name": "stderr",
     "output_type": "stream",
     "text": [
      "Some characters could not be decoded, and were replaced with REPLACEMENT CHARACTER.\n",
      "Some characters could not be decoded, and were replaced with REPLACEMENT CHARACTER.\n",
      "Some characters could not be decoded, and were replaced with REPLACEMENT CHARACTER.\n",
      "Some characters could not be decoded, and were replaced with REPLACEMENT CHARACTER.\n",
      "Some characters could not be decoded, and were replaced with REPLACEMENT CHARACTER.\n"
     ]
    },
    {
     "name": "stdout",
     "output_type": "stream",
     "text": [
      "3\n"
     ]
    },
    {
     "name": "stderr",
     "output_type": "stream",
     "text": [
      "Some characters could not be decoded, and were replaced with REPLACEMENT CHARACTER.\n",
      "Some characters could not be decoded, and were replaced with REPLACEMENT CHARACTER.\n",
      "Some characters could not be decoded, and were replaced with REPLACEMENT CHARACTER.\n"
     ]
    },
    {
     "name": "stdout",
     "output_type": "stream",
     "text": [
      "4\n",
      "Error: 4\n",
      "{'url': 'https://www.mimuw.edu.pl//aktualnosci/wydarzenia/konferencja-nonlocal-diffusion-problems-nonlocal-interface-evolution', 'date': '2020-10-01', 'title': 'Konferencja \"Nonlocal diffusion problems, nonlocal interface evolution\"'}\n",
      "{'url': 'https://www.mimuw.edu.pl//aktualnosci/wydarzenia/wyklad-prof-bliklego-odwrocmy-tradycyjna-kolej-rzeczy-eksperyment-z-semantyka', 'date': '2019-03-07 14:15', 'title': 'Wykład prof. Bliklego „Odwróćmy tradycyjną kolej rzeczy (eksperyment z semantyką denotacyjną)”'}\n",
      "{'url': 'https://www.mimuw.edu.pl//aktualnosci/wydarzenia/spotkanie-kola-bioinformatyki', 'date': '2018-11-05 16:00', 'title': 'spotkanie koła bioinformatyki'}\n",
      "{'url': 'https://www.mimuw.edu.pl//aktualnosci/wydarzenia/konwersatorium-im-jerzego-pniewskiego-i-leopolda-infelda', 'date': '', 'title': 'Konwersatorium im. Jerzego Pniewskiego i Leopolda Infelda'}\n",
      "{'url': 'https://www.mimuw.edu.pl//aktualnosci/wydarzenia/implementation-empirical-bayes-methods-2', 'date': '2022-10-20 10:15', 'title': 'Implementation of empirical Bayes methods'}\n"
     ]
    }
   ],
   "source": [
    "# Zadanie 1\n",
    "from bs4 import BeautifulSoup\n",
    "import requests\n",
    "import random\n",
    "import pandas as pd\n",
    "def get_hour(url):\n",
    "    page = requests.get(url)\n",
    "    soup = BeautifulSoup(page.content, 'html.parser')\n",
    "    if(len(soup.find_all(\"div\", class_=\"kanal-data\")) == 0):\n",
    "        return \"\"\n",
    "    hour_div = soup.find_all(\"div\", class_=\"kanal-data\")[0]\n",
    "    hour = hour_div.text\n",
    "    hour = hour.replace(\"\\n\", \"\")\n",
    "    hour = \" \".join(hour.split())\n",
    "    return hour\n",
    "def get_events(url):\n",
    "    list = []\n",
    "    page = requests.get(url)\n",
    "    soup = BeautifulSoup(page.content, 'html.parser')\n",
    "    if len(soup.find_all(\"div\", class_=\"kolumny clearfix\")) == 0:\n",
    "        print(\"Error: \" + page)\n",
    "        return list\n",
    "    events = soup.find_all(\"div\", class_=\"kolumny clearfix\")[0].find_all(\"a\")\n",
    "    events = [event for event in events if event[\"href\"].startswith(\"/aktualnosci/wydarzenia\")]\n",
    "    for event in events:\n",
    "        new_val = {}\n",
    "        new_val[\"url\"] = \"https://www.mimuw.edu.pl/\" + event[\"href\"]\n",
    "        new_val[\"date\"] = get_hour(new_val[\"url\"])\n",
    "        new_val[\"title\"] = event.text\n",
    "        list.append(new_val)\n",
    "    return list\n",
    "list = get_events(\"https://www.mimuw.edu.pl/aktualnosci/wydarzenia\")\n",
    "for i in range(1, 5):\n",
    "    print(i)\n",
    "    new_list = get_events(\"https://www.mimuw.edu.pl/aktualnosci/wydarzenia?page=\" + str(i))\n",
    "    if len(new_list) == 0:\n",
    "        print(\"Error: \" + str(i))\n",
    "    list = list + new_list\n",
    "df = pd.DataFrame(list)\n",
    "df.to_csv('events.csv', index=True)\n",
    "for i in range(0,5):\n",
    "    print(list[random.randint(0, len(list))])\n"
   ]
  },
  {
   "cell_type": "markdown",
   "id": "dd186b27",
   "metadata": {},
   "source": [
    "* Należy pobrać z wykorzystaniem pakietów requests, Beautiful Soup wszystkie wydarzenia zamieszczone w harmonogramie na stronie https://www.mimuw.edu.pl/. \n",
    "* Proszę napisać scraper w taki sposób, aby w efekcie działania zapisywał informacje jako lista słowników, których kluczami są tytuł, url do wydarzenia oraz jego data i godzina.\n",
    "* Otrzymane dane proszę zapisać w formacie csv/xlsx - pomocne może być wykorzystanie ramki danych (pakiet pandas) i metody from_dict.\n",
    "* Na koniec - prosze o wyświetlenie pięciu losowych wydarzeń z listy pobranych (tytuł, url, data)."
   ]
  },
  {
   "cell_type": "code",
   "execution_count": 1,
   "id": "3e58cc39",
   "metadata": {},
   "outputs": [],
   "source": []
  },
  {
   "cell_type": "code",
   "execution_count": 2,
   "id": "d2e04e76",
   "metadata": {},
   "outputs": [
    {
     "data": {
      "text/html": [
       "<div>\n",
       "<style scoped>\n",
       "    .dataframe tbody tr th:only-of-type {\n",
       "        vertical-align: middle;\n",
       "    }\n",
       "\n",
       "    .dataframe tbody tr th {\n",
       "        vertical-align: top;\n",
       "    }\n",
       "\n",
       "    .dataframe thead th {\n",
       "        text-align: right;\n",
       "    }\n",
       "</style>\n",
       "<table border=\"1\" class=\"dataframe\">\n",
       "  <thead>\n",
       "    <tr style=\"text-align: right;\">\n",
       "      <th></th>\n",
       "      <th>title</th>\n",
       "      <th>href</th>\n",
       "      <th>date</th>\n",
       "    </tr>\n",
       "  </thead>\n",
       "  <tbody>\n",
       "    <tr>\n",
       "      <th>22</th>\n",
       "      <td>Unveiling Microbial Dark Matter: leveraging co...</td>\n",
       "      <td>https://www.mimuw.edu.pl/aktualnosci/seminaria...</td>\n",
       "      <td>2023-12-06 10:15</td>\n",
       "    </tr>\n",
       "    <tr>\n",
       "      <th>2</th>\n",
       "      <td>North Atlantic Noncommutative Geometry Seminar</td>\n",
       "      <td>https://www.mimuw.edu.pl/aktualnosci/seminaria...</td>\n",
       "      <td>2024-01-24 17:15</td>\n",
       "    </tr>\n",
       "    <tr>\n",
       "      <th>7</th>\n",
       "      <td>Coercive inequalities for Gibbs measures</td>\n",
       "      <td>https://www.mimuw.edu.pl/aktualnosci/seminaria...</td>\n",
       "      <td>2023-12-14 12:15</td>\n",
       "    </tr>\n",
       "    <tr>\n",
       "      <th>60</th>\n",
       "      <td>Magdalena Wiertel</td>\n",
       "      <td>https://www.mimuw.edu.pl/doktoraty/magdalena-w...</td>\n",
       "      <td>2023-11-16 16:15</td>\n",
       "    </tr>\n",
       "    <tr>\n",
       "      <th>33</th>\n",
       "      <td>Foam evaluation and GL(N)-equivariant Khovanov...</td>\n",
       "      <td>https://www.mimuw.edu.pl/aktualnosci/seminaria...</td>\n",
       "      <td>2023-11-29 10:30</td>\n",
       "    </tr>\n",
       "  </tbody>\n",
       "</table>\n",
       "</div>"
      ],
      "text/plain": [
       "                                                title  \\\n",
       "22  Unveiling Microbial Dark Matter: leveraging co...   \n",
       "2      North Atlantic Noncommutative Geometry Seminar   \n",
       "7           Coercive inequalities for Gibbs measures    \n",
       "60                                  Magdalena Wiertel   \n",
       "33  Foam evaluation and GL(N)-equivariant Khovanov...   \n",
       "\n",
       "                                                 href              date  \n",
       "22  https://www.mimuw.edu.pl/aktualnosci/seminaria...  2023-12-06 10:15  \n",
       "2   https://www.mimuw.edu.pl/aktualnosci/seminaria...  2024-01-24 17:15  \n",
       "7   https://www.mimuw.edu.pl/aktualnosci/seminaria...  2023-12-14 12:15  \n",
       "60  https://www.mimuw.edu.pl/doktoraty/magdalena-w...  2023-11-16 16:15  \n",
       "33  https://www.mimuw.edu.pl/aktualnosci/seminaria...  2023-11-29 10:30  "
      ]
     },
     "execution_count": 2,
     "metadata": {},
     "output_type": "execute_result"
    }
   ],
   "source": []
  },
  {
   "cell_type": "code",
   "execution_count": 4,
   "id": "7fe6b588",
   "metadata": {},
   "outputs": [],
   "source": [
    "# Zadanie 2"
   ]
  },
  {
   "cell_type": "markdown",
   "id": "ad7bd102",
   "metadata": {},
   "source": [
    "Należy wybrać dowolną stronę internetową (zgodnie z zainteresowaniami), która zezwala na pobieranie danych. Następnie proszę dokonać pobierania wybranych przez Państwa treści. Można spróbować wykorzystac Selenium, chociaż requests + Beautiful Soup są wystarczające. Uzasadnić do czego takie dane mogą się Państwu przydać.  "
   ]
  }
 ],
 "metadata": {
  "kernelspec": {
   "display_name": "Python 3 (ipykernel)",
   "language": "python",
   "name": "python3"
  },
  "language_info": {
   "codemirror_mode": {
    "name": "ipython",
    "version": 3
   },
   "file_extension": ".py",
   "mimetype": "text/x-python",
   "name": "python",
   "nbconvert_exporter": "python",
   "pygments_lexer": "ipython3",
   "version": "3.10.12"
  }
 },
 "nbformat": 4,
 "nbformat_minor": 5
}
