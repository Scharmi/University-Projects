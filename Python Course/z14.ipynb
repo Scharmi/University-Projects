{
 "cells": [
  {
   "cell_type": "markdown",
   "metadata": {},
   "source": [
    "Matplotlib to kompleksowa biblioteka do tworzenia statycznych, \n",
    "interaktywnych i animowanych wizualizacji w Pythonie. \n",
    "Jest niezwykle wszechstronna i może być używana zarówno do prostych wykresów, \n",
    "jak i skomplikowanych figur z wieloma podwykresami. W tym scenariuszu \n",
    "omówimy podstawy Matplotlib, a także kilka zaawansowanych koncepcji. \n",
    "Poznamy również inne biblioteki wizualizacji danych w Pythonie.  oraz kilka ciekawych bibliotek do machine learningu."
   ]
  },
  {
   "cell_type": "markdown",
   "metadata": {},
   "source": [
    "Aby zacząć, musisz zainstalować Matplotlib. Możesz to zrobić za pomocą pip:"
   ]
  },
  {
   "cell_type": "code",
   "execution_count": null,
   "metadata": {},
   "outputs": [],
   "source": [
    "pip install matplotlib"
   ]
  },
  {
   "cell_type": "markdown",
   "metadata": {},
   "source": []
  },
  {
   "cell_type": "markdown",
   "metadata": {},
   "source": [
    "Matplotlib obraca się wokół dwóch głównych obiektów: Rysunków (Figures) "
   ]
  },
  {
   "cell_type": "code",
   "execution_count": null,
   "metadata": {},
   "outputs": [],
   "source": [
    "import matplotlib.pyplot as plt\n",
    "\n",
    "x = [1, 2, 3, 4]\n",
    "y = [10, 20, 25, 30]\n",
    "\n",
    "plt.plot(x, y)\n",
    "plt.show()\n"
   ]
  },
  {
   "cell_type": "markdown",
   "metadata": {},
   "source": [
    "b. Wykres Punktowy"
   ]
  },
  {
   "cell_type": "code",
   "execution_count": null,
   "metadata": {},
   "outputs": [],
   "source": [
    "plt.scatter(x, y)\n",
    "plt.show()\n",
    "\n"
   ]
  },
  {
   "cell_type": "markdown",
   "metadata": {},
   "source": [
    "zmina koloru "
   ]
  },
  {
   "cell_type": "code",
   "execution_count": null,
   "metadata": {},
   "outputs": [],
   "source": [
    "import matplotlib.pyplot as plt\n",
    "\n",
    "x = [1, 2, 3, 4, 5]\n",
    "y = [2, 3, 4, 5, 6]\n",
    "\n",
    "plt.scatter(x, y, color='red')\n",
    "plt.show()\n"
   ]
  },
  {
   "cell_type": "markdown",
   "metadata": {},
   "source": [
    "wtkres słupkowy"
   ]
  },
  {
   "cell_type": "code",
   "execution_count": null,
   "metadata": {},
   "outputs": [],
   "source": [
    "plt.bar(x, y)\n",
    "plt.show()\n",
    "\n"
   ]
  },
  {
   "cell_type": "markdown",
   "metadata": {},
   "source": [
    "kolowy\n"
   ]
  },
  {
   "cell_type": "code",
   "execution_count": null,
   "metadata": {},
   "outputs": [],
   "source": []
  },
  {
   "cell_type": "markdown",
   "metadata": {},
   "source": [
    "jescze jeden przyklad"
   ]
  },
  {
   "cell_type": "code",
   "execution_count": null,
   "metadata": {},
   "outputs": [],
   "source": [
    "import matplotlib.pyplot as plt\n",
    "\n",
    "# Sample data\n",
    "categories = ['Category A', 'Category B', 'Category C', 'Category D']\n",
    "values = [23, 45, 56, 78]\n",
    "\n",
    "# Define colors\n",
    "colors = ['red', 'green', 'blue', 'purple']\n",
    "\n",
    "# Create bar plot\n",
    "plt.bar(categories, values, color=colors)\n",
    "\n",
    "# Add labels and title (optional)\n",
    "plt.xlabel('Categories')\n",
    "plt.ylabel('Values')\n",
    "plt.title('Multicolor Bar Plot')\n",
    "\n",
    "plt.show()\n"
   ]
  },
  {
   "cell_type": "markdown",
   "metadata": {},
   "source": [
    "mapy kolorów "
   ]
  },
  {
   "cell_type": "code",
   "execution_count": null,
   "metadata": {},
   "outputs": [],
   "source": [
    "import numpy as np\n",
    "\n",
    "# Przykładowe dane\n",
    "kategorie = ['Kategoria A', 'Kategoria B', 'Kategoria C']\n",
    "grupa1 = [23, 35, 47]\n",
    "grupa2 = [17, 28, 40]\n",
    "\n",
    "# Zdefiniuj szerokość słupka\n",
    "szerokoscSłupka = 0.3\n",
    "\n",
    "# Ustaw pozycję słupka na osi X\n",
    "r1 = np.arange(len(grupa1))\n",
    "r2 = [x + szerokoscSłupka for x in r1]\n",
    "\n",
    "# Stwórz słupki\n",
    "plt.bar(r1, grupa1, color='blue', width=szerokoscSłupka, edgecolor='grey', label='Grupa 1')\n",
    "plt.bar(r2, grupa2, color='red', width=szerokoscSłupka, edgecolor='grey', label='Grupa 2')\n",
    "\n",
    "# Dodaj etykiety, tytuł i legendę\n",
    "plt.xlabel('Kategorie', fontweight='bold')\n",
    "plt.xticks([r + szerokoscSłupka for r in range(len(grupa1))], kategorie)\n",
    "plt.ylabel('Wartości')\n",
    "plt.title('Grupowany wykres słupkowy w wielu kolorach')\n",
    "plt.legend()\n",
    "\n",
    "plt.show()\n",
    "#przepisz powyższy kod i zmień po polsku\n"
   ]
  },
  {
   "cell_type": "code",
   "execution_count": null,
   "metadata": {},
   "outputs": [],
   "source": [
    "import numpy as np\n",
    "\n",
    "# Przykładowe wartości\n",
    "values = np.random.rand(len(x))\n",
    "\n",
    "plt.scatter(x, y, c=values, cmap='viridis')\n",
    "plt.colorbar()  # Pokazuje skalę kolorów\n",
    "plt.show()\n"
   ]
  },
  {
   "cell_type": "markdown",
   "metadata": {},
   "source": [
    "wykrez powierzchniowy 3d"
   ]
  },
  {
   "cell_type": "code",
   "execution_count": null,
   "metadata": {},
   "outputs": [],
   "source": [
    "fig = plt.figure()\n",
    "ax = fig.add_subplot(111, projection='3d')\n",
    "\n",
    "# Dane\n",
    "x = np.linspace(-5, 5, 100)\n",
    "y = np.linspace(-5, 5, 100)\n",
    "x, y = np.meshgrid(x, y)\n",
    "z = np.sin(np.sqrt(x**2 + y**2))\n",
    "\n",
    "# Wykres powierzchniowy\n",
    "surf = ax.plot_surface(x, y, z, cmap='viridis')\n",
    "\n",
    "# Etykiety i tytuł\n",
    "ax.set_xlabel('Oś X')\n",
    "ax.set_ylabel('Oś Y')\n",
    "ax.set_zlabel('Oś Z')\n",
    "ax.set_title('Wykres Powierzchniowy 3D')\n",
    "\n",
    "# Pasek kolorów\n",
    "fig.colorbar(surf)\n",
    "\n",
    "plt.show()\n"
   ]
  },
  {
   "cell_type": "code",
   "execution_count": null,
   "metadata": {},
   "outputs": [],
   "source": [
    "pip install plotly"
   ]
  },
  {
   "cell_type": "code",
   "execution_count": null,
   "metadata": {},
   "outputs": [],
   "source": [
    "pip install --upgrade pip"
   ]
  },
  {
   "cell_type": "code",
   "execution_count": null,
   "metadata": {},
   "outputs": [],
   "source": [
    "pip install   nbformat==5.9.2"
   ]
  },
  {
   "cell_type": "code",
   "execution_count": null,
   "metadata": {},
   "outputs": [],
   "source": [
    "import plotly.graph_objects as go\n",
    "import plotly.express as px\n",
    "import pandas as pd\n",
    "\n",
    "# Importuj dane\n",
    "pd.import_csv('ludnosc.csv')"
   ]
  },
  {
   "cell_type": "code",
   "execution_count": null,
   "metadata": {},
   "outputs": [],
   "source": [
    "import plotly.graph_objects as go\n",
    "\n",
    "# Dane\n",
    "x = [1, 2, 3, 4]\n",
    "y = [10, 11, 12, 13]\n",
    "\n",
    "# Tworzenie wykresu\n",
    "fig = go.Figure(data=go.Scatter(x=x, y=y, mode='lines'))\n",
    "\n",
    "# Wyświetlanie wykresu\n",
    "fig.show()\n"
   ]
  },
  {
   "cell_type": "code",
   "execution_count": null,
   "metadata": {},
   "outputs": [],
   "source": [
    "wykres słupkowy w plotly"
   ]
  },
  {
   "cell_type": "code",
   "execution_count": null,
   "metadata": {},
   "outputs": [],
   "source": [
    "import plotly.graph_objects as go\n",
    "\n",
    "# Przykładowe dane\n",
    "categories = ['Kategoria A', 'Kategoria B', 'Kategoria C', 'Kategoria D']\n",
    "values = [20, 14, 23, 25]\n",
    "\n",
    "# Stworzenie wykresu słupkowego\n",
    "fig = go.Figure(data=[go.Bar(x=categories, y=values)])\n",
    "\n",
    "# Dostosowanie układu\n",
    "fig.update_layout(\n",
    "    title='Przykład Wykresu Słupkowego',\n",
    "    xaxis_title='Kategoria',\n",
    "    yaxis_title='Wartości',\n",
    "    bargap=0.2, # odstęp między słupkami o przyległych współrzędnych\n",
    "    bargroupgap=0.1 # odstęp między słupkami o tej samej współrzędnej\n",
    ")\n",
    "\n",
    "# Wyświetlenie wykresu\n",
    "fig.show()\n"
   ]
  },
  {
   "cell_type": "markdown",
   "metadata": {},
   "source": [
    "Rózne Kolory słpkow"
   ]
  },
  {
   "cell_type": "code",
   "execution_count": null,
   "metadata": {},
   "outputs": [],
   "source": [
    "import plotly.graph_objects as go\n",
    "\n",
    "# Przykładowe dane\n",
    "categories = ['Kategoria A', 'Kategoria B', 'Kategoria C', 'Kategoria D']\n",
    "values = [20, 14, 23, 25]\n",
    "\n",
    "# Kolory dla każdego słupka\n",
    "colors = ['#FFD700', '#C0C0C0', '#CD7F32', '#6A5ACD']\n",
    "\n",
    "# Stworzenie wykresu słupkowego\n",
    "fig = go.Figure(data=[go.Bar(\n",
    "    x=categories, \n",
    "    y=values,\n",
    "    marker_color=colors  # Przypisanie kolorów do słupków\n",
    ")])\n",
    "\n",
    "# Dostosowanie układu\n",
    "fig.update_layout(\n",
    "    title='Przykład Wykresu Słupkowego z Różnymi Kolorami',\n",
    "    xaxis_title='Kategoria',\n",
    "    yaxis_title='Wartości',\n",
    "    bargap=0.2, # odstęp między słupkami o przyległych współrzędnych\n",
    "    bargroupgap=0.1 # odstęp między słupkami o tej samej współrzędnej\n",
    ")\n",
    "\n",
    "# Wyświetlenie wykresu\n",
    "fig.show()\n"
   ]
  },
  {
   "cell_type": "markdown",
   "metadata": {},
   "source": [
    "wtjres Kołowy"
   ]
  },
  {
   "cell_type": "code",
   "execution_count": null,
   "metadata": {},
   "outputs": [],
   "source": [
    "import plotly.graph_objects as go\n",
    "\n",
    "# Przykładowe dane\n",
    "labels = ['Kategoria A', 'Kategoria B', 'Kategoria C', 'Kategoria D']\n",
    "values = [450, 123, 255, 400]\n",
    "\n",
    "# Kolory dla poszczególnych segmentów\n",
    "colors = ['#FFD700', '#C0C0C0', '#CD7F32', '#6A5ACD']\n",
    "\n",
    "# Stworzenie wykresu kołowego\n",
    "fig = go.Figure(data=[go.Pie(\n",
    "    labels=labels, \n",
    "    values=values,\n",
    "    marker=dict(colors=colors)  # Przypisanie kolorów do segmentów\n",
    ")])\n",
    "\n",
    "# Dostosowanie układu\n",
    "fig.update_layout(\n",
    "    title='Przykład Wykresu Kołowego'\n",
    ")\n",
    "\n",
    "# Wyświetlenie wykresu\n",
    "fig.show()\n"
   ]
  },
  {
   "cell_type": "code",
   "execution_count": null,
   "metadata": {},
   "outputs": [],
   "source": [
    "import plotly.graph_objects as go\n",
    "import numpy as np\n",
    "\n",
    "# Przygotowanie danych\n",
    "x = np.outer(np.linspace(-2, 2, 30), np.ones(30))\n",
    "y = x.copy().T\n",
    "z = np.cos(x ** 2 + y ** 2)\n",
    "\n",
    "# Tworzenie wykresu powierzchniowego\n",
    "fig = go.Figure(data=[go.Surface(z=z, x=x, y=y)])\n",
    "\n",
    "# Dostosowanie wyglądu\n",
    "fig.update_layout(title='Wykres powierzchniowy', autosize=False,\n",
    "                  width=500, height=500,\n",
    "                  margin=dict(l=65, r=50, b=65, t=90))\n",
    "\n",
    "# Wyświetlanie wykresu\n",
    "fig.show()\n"
   ]
  },
  {
   "cell_type": "code",
   "execution_count": null,
   "metadata": {},
   "outputs": [],
   "source": [
    "  "
   ]
  },
  {
   "cell_type": "code",
   "execution_count": null,
   "metadata": {},
   "outputs": [],
   "source": [
    "pip install opencv-python pytube \n"
   ]
  },
  {
   "cell_type": "code",
   "execution_count": null,
   "metadata": {},
   "outputs": [],
   "source": [
    "pip install textblob"
   ]
  },
  {
   "cell_type": "markdown",
   "metadata": {},
   "source": [
    " Rozpoznawanie nazw własnych (Named Entity Recognition - NER)\n",
    "Możesz użyć spaCy do identyfikowania nazw własnych (osób, miejsc, organizacji itp.) w tekście.\n",
    "\n",
    "python"
   ]
  },
  {
   "cell_type": "code",
   "execution_count": null,
   "metadata": {},
   "outputs": [],
   "source": [
    "import spacy\n",
    "\n",
    "nlp = spacy.load(\"en_core_web_sm\")\n",
    "text = \"Apple is looking at buying U.K. startup for $1 billion\"\n",
    "doc = nlp(text)\n",
    "\n",
    "for ent in doc.ents:\n",
    "    print(ent.text, ent.start_char, ent.end_char, ent.label_)\n"
   ]
  },
  {
   "cell_type": "markdown",
   "metadata": {},
   "source": [
    " Parsowanie zależnościowe (Dependency Parsing)\n",
    "spaCy może być używany do zrozumienia struktury gramatycznej zdania, rozbijając je na jego składowe (podmiot, orzeczenie, dopełnienie itp.)\n",
    "\n",
    "\n"
   ]
  },
  {
   "cell_type": "code",
   "execution_count": null,
   "metadata": {},
   "outputs": [],
   "source": [
    "import spacy\n",
    "from spacy import displacy\n",
    "\n",
    "nlp = spacy.load(\"en_core_web_sm\")\n",
    "text = \"Apple is looking at buying U.K. startup for $1 billion\"\n",
    "doc = nlp(text)\n",
    "\n",
    "# Wizualizacja drzewa zależności\n",
    "displacy.render(doc, style=\"dep\")\n"
   ]
  },
  {
   "cell_type": "markdown",
   "metadata": {},
   "source": [
    "3. Oznaczanie części mowy (Part-of-Speech Tagging)\n",
    "spaCy może również być używany do identyfikacji części mowy (rzeczownik, czasownik, przymiotnik itp.) każdego słowa w zdaniu.\n",
    "\n"
   ]
  },
  {
   "cell_type": "code",
   "execution_count": null,
   "metadata": {},
   "outputs": [],
   "source": [
    "import spacy\n",
    "\n",
    "nlp = spacy.load(\"en_core_web_sm\")\n",
    "text = \"Apple is looking at buying U.K. startup for $1 billion\"\n",
    "doc = nlp(text)\n",
    "\n",
    "for token in doc:\n",
    "    print(token.text, token.lemma_, token.pos_, token.tag_, token.dep_,\n",
    "          token.shape_, token.is_alpha, token.is_stop)\n"
   ]
  },
  {
   "cell_type": "code",
   "execution_count": null,
   "metadata": {},
   "outputs": [],
   "source": [
    "badanie sentymentu strony internetowej"
   ]
  },
  {
   "cell_type": "code",
   "execution_count": 2,
   "metadata": {},
   "outputs": [
    {
     "ename": "TypeError",
     "evalue": "tuple indices must be integers or slices, not str",
     "output_type": "error",
     "traceback": [
      "\u001b[0;31m---------------------------------------------------------------------------\u001b[0m",
      "\u001b[0;31mTypeError\u001b[0m                                 Traceback (most recent call last)",
      "Cell \u001b[0;32mIn[2], line 31\u001b[0m\n\u001b[1;32m     29\u001b[0m url \u001b[38;5;241m=\u001b[39m \u001b[38;5;124m'\u001b[39m\u001b[38;5;124mhttps://www.foxnews.com/opinion/bidens-secretive-ai-strategy-goes-against-ideal-openai\u001b[39m\u001b[38;5;124m'\u001b[39m\n\u001b[1;32m     30\u001b[0m sentiment \u001b[38;5;241m=\u001b[39m analyze_webpage_sentiment(url)\n\u001b[0;32m---> 31\u001b[0m \u001b[38;5;28mprint\u001b[39m(\u001b[38;5;124mf\u001b[39m\u001b[38;5;124m\"\u001b[39m\u001b[38;5;124mPolarity: \u001b[39m\u001b[38;5;132;01m{\u001b[39;00m\u001b[43msentiment\u001b[49m\u001b[43m[\u001b[49m\u001b[38;5;124;43m'\u001b[39;49m\u001b[38;5;124;43mpolarity\u001b[39;49m\u001b[38;5;124;43m'\u001b[39;49m\u001b[43m]\u001b[49m\u001b[38;5;132;01m}\u001b[39;00m\u001b[38;5;124m, Subjectivity: \u001b[39m\u001b[38;5;132;01m{\u001b[39;00msentiment[\u001b[38;5;124m'\u001b[39m\u001b[38;5;124msubjectivity\u001b[39m\u001b[38;5;124m'\u001b[39m]\u001b[38;5;132;01m}\u001b[39;00m\u001b[38;5;124m\"\u001b[39m)\n",
      "\u001b[0;31mTypeError\u001b[0m: tuple indices must be integers or slices, not str"
     ]
    }
   ],
   "source": [
    "import requests\n",
    "from bs4 import BeautifulSoup\n",
    "import spacy\n",
    "from textblob import TextBlob\n",
    "\n",
    "# Load Spacy NLP model\n",
    "nlp = spacy.load('en_core_web_sm')\n",
    "\n",
    "def analyze_webpage_sentiment(url):\n",
    "    # Fetch and parse the webpage\n",
    "    response = requests.get(url)\n",
    "    soup = BeautifulSoup(response.content, 'html.parser')\n",
    "    \n",
    "    # Extract text from the webpage\n",
    "    text = ' '.join(map(lambda p: p.text, soup.find_all('p')))\n",
    "    \n",
    "    # Process text with Spacy\n",
    "    doc = nlp(text)\n",
    "    \n",
    "    # Combine tokens back into a single string\n",
    "    processed_text = ' '.join([token.lemma_ for token in doc if not token.is_stop])\n",
    "    \n",
    "    # Perform sentiment analysis with TextBlob\n",
    "    sentiment = TextBlob(processed_text).sentiment\n",
    "    \n",
    "    return sentiment\n",
    "\n",
    "# Test the function\n",
    "url = 'https://www.foxnews.com/opinion/bidens-secretive-ai-strategy-goes-against-ideal-openai'\n",
    "sentiment = analyze_webpage_sentiment(url)\n",
    "print(sentiment)\n"
   ]
  },
  {
   "cell_type": "code",
   "execution_count": null,
   "metadata": {},
   "outputs": [],
   "source": [
    "sentiment"
   ]
  },
  {
   "cell_type": "code",
   "execution_count": null,
   "metadata": {},
   "outputs": [],
   "source": []
  }
 ],
 "metadata": {
  "kernelspec": {
   "display_name": "Python 3",
   "language": "python",
   "name": "python3"
  },
  "language_info": {
   "codemirror_mode": {
    "name": "ipython",
    "version": 3
   },
   "file_extension": ".py",
   "mimetype": "text/x-python",
   "name": "python",
   "nbconvert_exporter": "python",
   "pygments_lexer": "ipython3",
   "version": "3.10.12"
  }
 },
 "nbformat": 4,
 "nbformat_minor": 2
}
